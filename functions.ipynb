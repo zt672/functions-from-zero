{
  "nbformat": 4,
  "nbformat_minor": 0,
  "metadata": {
    "colab": {
      "name": "functions",
      "provenance": [],
      "include_colab_link": true
    },
    "kernelspec": {
      "name": "python3",
      "display_name": "Python 3"
    },
    "language_info": {
      "name": "python"
    }
  },
  "cells": [
    {
      "cell_type": "markdown",
      "metadata": {
        "id": "view-in-github",
        "colab_type": "text"
      },
      "source": [
        "<a href=\"https://colab.research.google.com/github/zt672/functions-from-zero/blob/main/functions.ipynb\" target=\"_parent\"><img src=\"https://colab.research.google.com/assets/colab-badge.svg\" alt=\"Open In Colab\"/></a>"
      ]
    },
    {
      "cell_type": "markdown",
      "source": [
        "### Styles of Functions"
      ],
      "metadata": {
        "id": "oAjjSrMHdBLO"
      }
    },
    {
      "cell_type": "code",
      "execution_count": null,
      "metadata": {
        "id": "24X454rPc1Fr"
      },
      "outputs": [],
      "source": [
        "def simple():pass"
      ]
    },
    {
      "cell_type": "code",
      "source": [
        "def simple2():\n",
        "    print(\"simple\")"
      ],
      "metadata": {
        "id": "FPhE3r29dGQu"
      },
      "execution_count": null,
      "outputs": []
    },
    {
      "cell_type": "code",
      "source": [
        "simple2()"
      ],
      "metadata": {
        "id": "YPJ0gyTLdOlM",
        "outputId": "14b6803d-a178-4d30-f005-4afacfbc0a92",
        "colab": {
          "base_uri": "https://localhost:8080/"
        }
      },
      "execution_count": null,
      "outputs": [
        {
          "output_type": "stream",
          "name": "stdout",
          "text": [
            "simple\n"
          ]
        }
      ]
    },
    {
      "cell_type": "code",
      "source": [],
      "metadata": {
        "id": "mCzImF0qdR42"
      },
      "execution_count": null,
      "outputs": []
    },
    {
      "cell_type": "markdown",
      "source": [
        "### Most useful"
      ],
      "metadata": {
        "id": "YXWStV3udbY5"
      }
    },
    {
      "cell_type": "code",
      "source": [
        "def my_worker(fruit):\n",
        "    statement = f\"My favorite meal is chicken and {fruit}\"\n",
        "    meals = {\"dinner\": statement}\n",
        "    return meals\n"
      ],
      "metadata": {
        "id": "J8T-wAg5ddDY"
      },
      "execution_count": null,
      "outputs": []
    },
    {
      "cell_type": "code",
      "source": [
        "meal = my_worker(\"Apple\")"
      ],
      "metadata": {
        "id": "tm1i2V8_d2zS"
      },
      "execution_count": null,
      "outputs": []
    },
    {
      "cell_type": "code",
      "source": [
        "type(meal)"
      ],
      "metadata": {
        "id": "aasdHegod6gy",
        "outputId": "578c2a51-f7c3-4761-fab3-ac9290e4de5f",
        "colab": {
          "base_uri": "https://localhost:8080/"
        }
      },
      "execution_count": null,
      "outputs": [
        {
          "output_type": "execute_result",
          "data": {
            "text/plain": [
              "dict"
            ]
          },
          "metadata": {},
          "execution_count": 6
        }
      ]
    },
    {
      "cell_type": "code",
      "source": [
        "meal"
      ],
      "metadata": {
        "id": "O6azTaJ9d9Mp",
        "outputId": "a60111dc-8c6c-440c-bbd7-7e0d19d61ca2",
        "colab": {
          "base_uri": "https://localhost:8080/"
        }
      },
      "execution_count": null,
      "outputs": [
        {
          "output_type": "execute_result",
          "data": {
            "text/plain": [
              "{'dinner': 'My favorite meal is chicken and Apple'}"
            ]
          },
          "metadata": {},
          "execution_count": 7
        }
      ]
    },
    {
      "cell_type": "code",
      "source": [
        "def human(food):\n",
        "    consume = food[\"dinner\"]\n",
        "    return consume\n"
      ],
      "metadata": {
        "id": "1RFRQkFoeBHI"
      },
      "execution_count": null,
      "outputs": []
    },
    {
      "cell_type": "code",
      "source": [
        "my_meal=human(meal)\n",
        "print(f\"I want my meal.  It will be: {my_meal}\")"
      ],
      "metadata": {
        "id": "E_aQRXx6eEin",
        "outputId": "a15068df-dea1-473c-cb7b-5b123f65a69f",
        "colab": {
          "base_uri": "https://localhost:8080/"
        }
      },
      "execution_count": null,
      "outputs": [
        {
          "output_type": "stream",
          "name": "stdout",
          "text": [
            "I want my meal.  It will be: My favorite meal is chicken and Apple\n"
          ]
        }
      ]
    },
    {
      "cell_type": "code",
      "source": [],
      "metadata": {
        "id": "lvK1gY2weaB1"
      },
      "execution_count": null,
      "outputs": []
    }
  ]
}